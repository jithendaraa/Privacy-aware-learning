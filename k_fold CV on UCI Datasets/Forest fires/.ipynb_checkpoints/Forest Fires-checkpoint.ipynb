{
 "cells": [
  {
   "cell_type": "markdown",
   "metadata": {},
   "source": [
    "# Define function to plot RMSE vs Number of Features for K-fold Cross Validation"
   ]
  },
  {
   "cell_type": "code",
   "execution_count": 96,
   "metadata": {},
   "outputs": [],
   "source": [
    "import numpy as np\n",
    "import matplotlib.pyplot as plt\n",
    "import pandas as pd\n",
    "from sklearn.datasets import make_regression\n",
    "import math\n",
    "\n",
    "def k_fold_plot_RMSE_vs_noOfFeatures(X, y, k, features, jump, entries):\n",
    "    \n",
    "    entries -= entries%k\n",
    "    X = X[:entries, :]\n",
    "    y = y[:entries]\n",
    "\n",
    "    uval = math.floor(entries/k)\n",
    "\n",
    "    test_ratio = math.floor(uval/100)\n",
    "    train_ratio = 1 - test_ratio\n",
    "    n = math.floor(features/jump)\n",
    "\n",
    "    TMSE = np.ones((features, 1))\n",
    "    RMSE = np.ones((features, 1))\n",
    "\n",
    "    X = X.reshape(k, uval, features)\n",
    "    y = y.reshape(k, uval, 1)\n",
    "    RMSE_indi = np.ones((features,k))\n",
    "    RMSE_SD = np.ones((features, 1))\n",
    "\n",
    "    for feature in range(features):\n",
    "        MSE = 0\n",
    "        for i in range(k):\n",
    "    \n",
    "            X_test = X[i:i+1, :, :(feature+1)]\n",
    "            X_test = X_test.reshape(uval, (feature+1))\n",
    "            X_test = np.append(arr = np.ones((uval, 1)), values = X_test, axis=1)\n",
    "\n",
    "            y_test = y[i:i+1, :, :]\n",
    "            y_test = y_test.reshape(uval)\n",
    "    \n",
    "            X_train = np.concatenate((X[:i , :, :(feature+1)], X[i+1:, :, :(feature+1)])) # Upper SIP, middle SIP is test, Lower SIP\n",
    "            X_train = X_train.reshape(entries-uval,(feature+1))\n",
    "            X_train = np.append(arr = np.ones((entries-uval, 1)), values = X_train, axis=1)\n",
    "        \n",
    "            xT = X_train.transpose()\n",
    "            xTx = np.dot(xT, X_train)\n",
    "            xTx_pinv = np.linalg.pinv(xTx) \n",
    "        \n",
    "            y_train = np.concatenate((y[:i , :, :], y[i+1:, :, :]))\n",
    "            y_train = y_train.reshape(entries-uval)\n",
    "            xTy = np.dot(xT, y_train)\n",
    "            w = np.dot(xTx_pinv, xTy).reshape(feature+2,1)\n",
    "            y_pred = np.dot(X_test,w).reshape(X_test.shape[0])\n",
    "            abs_err = abs(y_pred-y_test)\n",
    "            MSE += np.mean((abs_err)**2)\n",
    "            RMSE_indi[feature][i] = (np.mean((abs_err)**2))**0.5\n",
    "        \n",
    "        TMSE[feature] = MSE/k\n",
    "        RMSE[feature] = TMSE[feature]**0.5 \n",
    "    \n",
    "\n",
    "    reqdRMSE = np.ones((n,1))\n",
    "\n",
    "    for i in range(features):\n",
    "        RMSE_SD[i] = RMSE_indi[i].std()\n",
    "\n",
    "\n",
    "    for i in range(n):\n",
    "        reqdRMSE[i] = RMSE[(i+1)*jump - 1]\n",
    "    \n",
    "    X_vals_plot = list(range(1,n+1))\n",
    "    X_vals_plot = np.multiply(X_vals_plot, jump)\n",
    "\n",
    "\n",
    "    print(k,\"-Fold Cross Validation with\", entries, \"entries\", features, \"max-features and jump-value\", jump)\n",
    "    plt.errorbar(list(range(1,features+1)), RMSE, yerr=RMSE_SD, color=\"blue\", errorevery = jump, capsize=3, ecolor=\"red\")\n",
    "    # plt.scatter(X_vals_plot.reshape(n,1), reqdRMSE, color=\"black\", s=10)\n",
    "    plt.xlabel(\"Number of features\")\n",
    "    plt.ylabel(\"Root Mean squared error\")\n",
    "    plt.title(\"K-Fold Cross Validation RMSE vs No.of.features in linear regression\")\n",
    "    plt.show()\n",
    "\n",
    "    plt.plot(X_vals_plot.reshape(n,1), reqdRMSE, color=\"red\")\n",
    "    plt.scatter(X_vals_plot.reshape(n,1), reqdRMSE, color=\"black\")\n",
    "    plt.xlabel(\"Number of features\")\n",
    "    plt.ylabel(\"Root Mean squared error\")\n",
    "    plt.show()\n",
    "    "
   ]
  },
  {
   "cell_type": "markdown",
   "metadata": {},
   "source": [
    "# Define function to plot RMSE vs Training set size for K-fold Cross Validation"
   ]
  },
  {
   "cell_type": "code",
   "execution_count": 97,
   "metadata": {},
   "outputs": [],
   "source": [
    "import numpy as np\n",
    "import matplotlib.pyplot as plt\n",
    "import pandas as pd\n",
    "from sklearn.datasets import make_regression\n",
    "import math\n",
    "\n",
    "def k_fold_plot_RMSE_vs_training_set_size(X, y, k, features, jump, entries):\n",
    "    \n",
    "    entries -= entries%k\n",
    "    X = X[:entries, :]\n",
    "    y = y[:entries]\n",
    "    \n",
    "    uval = math.floor(entries/k)\n",
    "    test_ratio = math.floor(uval/100)\n",
    "    train_ratio = 1 - test_ratio\n",
    "    n = math.floor(features/jump)\n",
    "    m = math.floor((entries-uval)/jump)\n",
    "\n",
    "    X = X.reshape(k*uval, features)\n",
    "    y = y.reshape(k*uval)\n",
    "\n",
    "    X_test = X[:uval]\n",
    "\n",
    "    X_test = X_test.reshape(uval, features)\n",
    "    X_test = np.append(arr = np.ones((uval, 1)), values = X_test, axis=1)\n",
    "    y_test = y[:uval]\n",
    "\n",
    "    TRMSE_SD = np.ones((k-1, 1))\n",
    "    RMSE = np.ones((k-1))\n",
    "\n",
    "    X_without_XTest = X[uval:, :]\n",
    "    y_without_yTest = y[uval:]\n",
    "\n",
    "    num = m\n",
    "    RMSE = np.ones((m))\n",
    "    RMSE_SD = np.ones((m))\n",
    "    X_val = np.ones((m))\n",
    "\n",
    "    for i in range(m):\n",
    "        X_val[i] = (i+1)*jump\n",
    "        RMSE_indi = np.ones((num))\n",
    "        MSE = 0\n",
    "        sqr_err = np.zeros((y_test.shape[0]))\n",
    "        for j in range(num):\n",
    "            X_train = X_without_XTest[j*jump:(i+j)*jump+(jump)]\n",
    "            X_train = np.append(arr = np.ones(((i+1)*jump,1)), values = X_train, axis=1)\n",
    "        \n",
    "            y_train = y_without_yTest[j*jump:(i+j)*jump+(jump)]\n",
    "        \n",
    "            xT = X_train.transpose();\n",
    "            xTx = np.dot(xT, X_train)\n",
    "            xTx_pinv = np.linalg.pinv(xTx)\n",
    "            xTy = np.dot(xT, y_train)\n",
    "            w = np.dot(xTx_pinv, xTy).reshape(features+1, 1)\n",
    "        \n",
    "            y_pred = np.dot(X_test,w).reshape(X_test.shape[0])\n",
    "            sqr_err += abs(y_pred-y_test)**2\n",
    "        \n",
    "            RMSE_indi[j] = (np.mean(abs(y_pred-y_test)**2)**0.5)\n",
    "        \n",
    "        RMSE[i] = (np.mean(sqr_err))**0.5\n",
    "        RMSE_SD[i] = RMSE_indi.std()\n",
    "        num -= 1\n",
    "    \n",
    "\n",
    "    X_val = X_val.astype(int)\n",
    "\n",
    "    plt.scatter(X_val, RMSE, color=\"black\", s=10)\n",
    "    plt.errorbar(X_val, RMSE, yerr=RMSE_SD, color=\"blue\", ecolor=\"red\", capsize=3)\n",
    "    plt.xlabel(\"Training set size\")\n",
    "    plt.ylabel(\"RMSE\")\n",
    "    plt.title(\"Train set size vs RMSE for k-fold cross validation\")\n",
    "    plt.show()\n",
    "    "
   ]
  },
  {
   "cell_type": "code",
   "execution_count": 98,
   "metadata": {},
   "outputs": [
    {
     "name": "stdout",
     "output_type": "stream",
     "text": [
      "5 -Fold Cross Validation with 515 entries 27 max-features and jump-value 1\n"
     ]
    },
    {
     "data": {
      "image/png": "[encoded data removed]",
      "text/plain": [
       "<Figure size 432x288 with 1 Axes>"
      ]
     },
     "metadata": {
      "needs_background": "light"
     },
     "output_type": "display_data"
    },
    {
     "data": {
      "image/png": "[encoded data removed]",
      "text/plain": [
       "<Figure size 432x288 with 1 Axes>"
      ]
     },
     "metadata": {
      "needs_background": "light"
     },
     "output_type": "display_data"
    },
    {
     "data": {
      "image/png": "[encoded data removed]",
      "text/plain": [
       "<Figure size 432x288 with 1 Axes>"
      ]
     },
     "metadata": {
      "needs_background": "light"
     },
     "output_type": "display_data"
    }
   ],
   "source": [
    "import pandas as pd\n",
    "import matplotlib.pyplot as plt\n",
    "import numpy as np\n",
    "import math\n",
    "\n",
    "# import dataset\n",
    "df = pd.read_csv(\"forestfires.csv\")\n",
    "\n",
    "# One hot Encode month and day, remove month and day -- avoiding dummy variable trap\n",
    "month_dummies = pd.get_dummies(df.month).iloc[:, :-1]\n",
    "# print(df)\n",
    "df = pd.concat([df, month_dummies], axis='columns')\n",
    "df = df.drop(['month'], axis='columns')\n",
    "day_dummies = pd.get_dummies(df.day).iloc[:, :-1]\n",
    "df = pd.concat([df, day_dummies], axis='columns')\n",
    "df = df.drop(['day'], axis='columns')\n",
    "# df.iloc[df.area]\n",
    "y = df['area'].values\n",
    "df = df.drop(['area'], axis='columns')\n",
    "X = df.iloc[:, :].values\n",
    "\n",
    "uval = math.floor(entries/k)\n",
    "test_ratio = math.floor(uval/100)\n",
    "train_ratio = 1 - test_ratio\n",
    "n = math.floor(features/jump)\n",
    "\n",
    "#plot\n",
    "k = 5\n",
    "features = X.shape[1]\n",
    "entries = X.shape[0]\n",
    "jump = 1\n",
    "\n",
    "k_fold_plot_RMSE_vs_noOfFeatures(X, y, k, features, jump, entries)\n",
    "\n",
    "k = 5\n",
    "features = X.shape[1]\n",
    "entries = X.shape[0]\n",
    "jump = 40\n",
    "\n",
    "k_fold_plot_RMSE_vs_training_set_size(X, y, k, features, jump, entries)"
   ]
  }
 ],
 "metadata": {
  "kernelspec": {
   "display_name": "Python 3",
   "language": "python",
   "name": "python3"
  },
  "language_info": {
   "codemirror_mode": {
    "name": "ipython",
    "version": 3
   },
   "file_extension": ".py",
   "mimetype": "text/x-python",
   "name": "python",
   "nbconvert_exporter": "python",
   "pygments_lexer": "ipython3",
   "version": "3.7.1"
  }
 },
 "nbformat": 4,
 "nbformat_minor": 2
}
