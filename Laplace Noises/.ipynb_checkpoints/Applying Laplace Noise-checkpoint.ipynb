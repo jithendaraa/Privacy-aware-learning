{
 "cells": [
  {
   "cell_type": "code",
   "execution_count": 80,
   "metadata": {},
   "outputs": [
    {
     "name": "stdout",
     "output_type": "stream",
     "text": [
      "[-2.63106895 24.08035602]\n",
      "[7.10542736e-15 2.64659900e+01]\n"
     ]
    }
   ],
   "source": [
    "import numpy as np\n",
    "import matplotlib.pyplot as plt\n",
    "import pandas as pd\n",
    "from sklearn.datasets import make_regression\n",
    "import math\n",
    "from sklearn.preprocessing import normalize\n",
    "\n",
    "entries = 10                         #n\n",
    "features = 1                          #d\n",
    "d = features\n",
    "elems = (d*(d+1))/2\n",
    "epsilon = 1\n",
    "#b=delF/epsilon\n",
    "# scale =                  \n",
    "\n",
    "X,y = make_regression(n_samples = entries, n_features = features, noise = 0)\n",
    "# add unit bias\n",
    "X = np.append(arr=np.ones((X.shape[0],1)) , values=X , axis=1)\n",
    "\n",
    "\n",
    "xT = X.transpose()\n",
    "xTx = np.dot(xT, X)\n",
    "xTy = np.dot(xT, y)\n",
    "\n",
    "# for i in range(entries):\n",
    "\n",
    "# #     print(X[0:1, :].shape)\n",
    "#     X_neigh = np.append(arr=X[0:i, :], values=X[i+1:entries, :], axis=0)\n",
    "#     X_neighT = X_neigh.transpose()\n",
    "    \n",
    "#     y_neigh = np.append(arr=y[0:i], values=X[i+1:entries], axis=0)\n",
    "#     y_neighT = y_neigh.transpose()\n",
    "    \n",
    "#     X_neighTX_neigh = np.dot(X_neighT, X_neigh)\n",
    "#     y_neighTy_neigh = np.dot(y_neighT, y)\n",
    "\n",
    "X_neigh = np.append(arr=X[0:0, :], values=X[1:entries, :], axis=0)\n",
    "X_neighT = X_neigh.transpose()\n",
    "\n",
    "y_neigh = np.append(arr=y[0:0], values=y[1:entries], axis=0)\n",
    "y_neighT = y_neigh.transpose()\n",
    "\n",
    "X_neighTX_neigh = np.dot(X_neighT, X_neigh)\n",
    "X_neighTy_neigh = np.dot(X_neighT, y_neigh)\n",
    "\n",
    "Xdiff = xTx - X_neighTX_neigh\n",
    "Xdiff = normalize(Xdiff, norm='l1')\n",
    "\n",
    "ydiff = xTy - X_neighTy_neigh\n",
    "\n",
    "b1 = elems/epsilon\n",
    "b2 = elems/epsilon\n",
    "\n",
    "# u is lap(b1)\n",
    "# v is lap(b2)\n",
    "nos = d*d\n",
    "u = np.random.laplace(loc=0.0, scale=b1, size=d*d)\n",
    "v = np.random.laplace(loc=0.0, scale=b2, size=xTy.shape[0])\n",
    "sTs = xTx + u\n",
    "sTt = xTy + v\n",
    "\n",
    "sTspinv = np.linalg.pinv(sTs)\n",
    "wi = np.dot(sTspinv, sTt)\n",
    "print(wi)\n",
    "\n",
    "xTxpinv = np.linalg.pinv(xTx)\n",
    "w = np.dot(xTxpinv, xTy)\n",
    "print(w)"
   ]
  },
  {
   "cell_type": "code",
   "execution_count": null,
   "metadata": {},
   "outputs": [],
   "source": []
  }
 ],
 "metadata": {
  "kernelspec": {
   "display_name": "Python 3",
   "language": "python",
   "name": "python3"
  },
  "language_info": {
   "codemirror_mode": {
    "name": "ipython",
    "version": 3
   },
   "file_extension": ".py",
   "mimetype": "text/x-python",
   "name": "python",
   "nbconvert_exporter": "python",
   "pygments_lexer": "ipython3",
   "version": "3.7.1"
  }
 },
 "nbformat": 4,
 "nbformat_minor": 2
}
