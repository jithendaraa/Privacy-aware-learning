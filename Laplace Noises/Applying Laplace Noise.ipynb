{
 "cells": [
  {
   "cell_type": "code",
   "execution_count": 96,
   "metadata": {},
   "outputs": [
    {
     "ename": "ValueError",
     "evalue": "Expected 2D array, got 1D array instead:\narray=[3.25815796 6.51042891].\nReshape your data either using array.reshape(-1, 1) if your data has a single feature or array.reshape(1, -1) if it contains a single sample.",
     "output_type": "error",
     "traceback": [
      "\u001b[1;31m---------------------------------------------------------------------------\u001b[0m",
      "\u001b[1;31mValueError\u001b[0m                                Traceback (most recent call last)",
      "\u001b[1;32m<ipython-input-96-38a11ac63255>\u001b[0m in \u001b[0;36m<module>\u001b[1;34m\u001b[0m\n\u001b[0;32m     48\u001b[0m \u001b[1;33m\u001b[0m\u001b[0m\n\u001b[0;32m     49\u001b[0m \u001b[0mydiff\u001b[0m \u001b[1;33m=\u001b[0m \u001b[0mxTy\u001b[0m \u001b[1;33m-\u001b[0m \u001b[0mX_neighTy_neigh\u001b[0m\u001b[1;33m\u001b[0m\u001b[1;33m\u001b[0m\u001b[0m\n\u001b[1;32m---> 50\u001b[1;33m \u001b[0mydiff\u001b[0m \u001b[1;33m=\u001b[0m \u001b[0mnormalize\u001b[0m\u001b[1;33m(\u001b[0m\u001b[0mydiff\u001b[0m\u001b[1;33m,\u001b[0m \u001b[0mnorm\u001b[0m\u001b[1;33m=\u001b[0m\u001b[1;34m'l1'\u001b[0m\u001b[1;33m)\u001b[0m\u001b[1;33m\u001b[0m\u001b[1;33m\u001b[0m\u001b[0m\n\u001b[0m\u001b[0;32m     51\u001b[0m \u001b[1;33m\u001b[0m\u001b[0m\n\u001b[0;32m     52\u001b[0m \u001b[1;31m# b1 = elems/epsilon\u001b[0m\u001b[1;33m\u001b[0m\u001b[1;33m\u001b[0m\u001b[1;33m\u001b[0m\u001b[0m\n",
      "\u001b[1;32m~\\Anaconda3\\lib\\site-packages\\sklearn\\preprocessing\\data.py\u001b[0m in \u001b[0;36mnormalize\u001b[1;34m(X, norm, axis, copy, return_norm)\u001b[0m\n\u001b[0;32m   1552\u001b[0m \u001b[1;33m\u001b[0m\u001b[0m\n\u001b[0;32m   1553\u001b[0m     X = check_array(X, sparse_format, copy=copy,\n\u001b[1;32m-> 1554\u001b[1;33m                     estimator='the normalize function', dtype=FLOAT_DTYPES)\n\u001b[0m\u001b[0;32m   1555\u001b[0m     \u001b[1;32mif\u001b[0m \u001b[0maxis\u001b[0m \u001b[1;33m==\u001b[0m \u001b[1;36m0\u001b[0m\u001b[1;33m:\u001b[0m\u001b[1;33m\u001b[0m\u001b[1;33m\u001b[0m\u001b[0m\n\u001b[0;32m   1556\u001b[0m         \u001b[0mX\u001b[0m \u001b[1;33m=\u001b[0m \u001b[0mX\u001b[0m\u001b[1;33m.\u001b[0m\u001b[0mT\u001b[0m\u001b[1;33m\u001b[0m\u001b[1;33m\u001b[0m\u001b[0m\n",
      "\u001b[1;32m~\\Anaconda3\\lib\\site-packages\\sklearn\\utils\\validation.py\u001b[0m in \u001b[0;36mcheck_array\u001b[1;34m(array, accept_sparse, accept_large_sparse, dtype, order, copy, force_all_finite, ensure_2d, allow_nd, ensure_min_samples, ensure_min_features, warn_on_dtype, estimator)\u001b[0m\n\u001b[0;32m    550\u001b[0m                     \u001b[1;34m\"Reshape your data either using array.reshape(-1, 1) if \"\u001b[0m\u001b[1;33m\u001b[0m\u001b[1;33m\u001b[0m\u001b[0m\n\u001b[0;32m    551\u001b[0m                     \u001b[1;34m\"your data has a single feature or array.reshape(1, -1) \"\u001b[0m\u001b[1;33m\u001b[0m\u001b[1;33m\u001b[0m\u001b[0m\n\u001b[1;32m--> 552\u001b[1;33m                     \"if it contains a single sample.\".format(array))\n\u001b[0m\u001b[0;32m    553\u001b[0m \u001b[1;33m\u001b[0m\u001b[0m\n\u001b[0;32m    554\u001b[0m         \u001b[1;31m# in the future np.flexible dtypes will be handled like object dtypes\u001b[0m\u001b[1;33m\u001b[0m\u001b[1;33m\u001b[0m\u001b[1;33m\u001b[0m\u001b[0m\n",
      "\u001b[1;31mValueError\u001b[0m: Expected 2D array, got 1D array instead:\narray=[3.25815796 6.51042891].\nReshape your data either using array.reshape(-1, 1) if your data has a single feature or array.reshape(1, -1) if it contains a single sample."
     ]
    }
   ],
   "source": [
    "import numpy as np\n",
    "import matplotlib.pyplot as plt\n",
    "import pandas as pd\n",
    "from sklearn.datasets import make_regression\n",
    "import math\n",
    "from sklearn.preprocessing import normalize\n",
    "\n",
    "entries = 10                         #n\n",
    "features = 1                          #d\n",
    "d = features\n",
    "elems = (d*(d+1))/2\n",
    "epsilon = 1\n",
    "#b=delF/epsilon\n",
    "# scale =                  \n",
    "\n",
    "X,y = make_regression(n_samples = entries, n_features = features, noise = 0)\n",
    "# add unit bias\n",
    "X = np.append(arr=np.ones((X.shape[0],1)) , values=X , axis=1)\n",
    "\n",
    "\n",
    "xT = X.transpose()\n",
    "xTx = np.dot(xT, X)\n",
    "xTy = np.dot(xT, y)\n",
    "\n",
    "# for i in range(entries):\n",
    "\n",
    "# #     print(X[0:1, :].shape)\n",
    "#     X_neigh = np.append(arr=X[0:i, :], values=X[i+1:entries, :], axis=0)\n",
    "#     X_neighT = X_neigh.transpose()\n",
    "    \n",
    "#     y_neigh = np.append(arr=y[0:i], values=X[i+1:entries], axis=0)\n",
    "#     y_neighT = y_neigh.transpose()\n",
    "    \n",
    "#     X_neighTX_neigh = np.dot(X_neighT, X_neigh)\n",
    "#     y_neighTy_neigh = np.dot(y_neighT, y)\n",
    "\n",
    "X_neigh = np.append(arr=X[0:0, :], values=X[1:entries, :], axis=0)\n",
    "X_neighT = X_neigh.transpose()\n",
    "\n",
    "y_neigh = np.append(arr=y[0:0], values=y[1:entries], axis=0)\n",
    "y_neighT = y_neigh.transpose()\n",
    "\n",
    "X_neighTX_neigh = np.dot(X_neighT, X_neigh)\n",
    "X_neighTy_neigh = np.dot(X_neighT, y_neigh)\n",
    "\n",
    "Xdiff = xTx - X_neighTX_neigh\n",
    "Xdiff = normalize(Xdiff, norm='l1')\n",
    "\n",
    "ydiff = xTy - X_neighTy_neigh\n",
    "# ydiff = normalize(ydiff, norm='l1')\n",
    "\n",
    "# b1 = elems/epsilon\n",
    "# b2 = elems/epsilon\n",
    "\n",
    "# # u is lap(b1)\n",
    "# # v is lap(b2)\n",
    "# nos = d*d\n",
    "# # u = np.random.laplace(loc=0.0, scale=b1, size=d*d)\n",
    "# # v = np.random.laplace(loc=0.0, scale=b2, size=xTy.shape[0])\n",
    "\n",
    "# u = np.random.laplace(loc=0.0, scale=b1)\n",
    "# v = np.random.laplace(loc=0.0, scale=b2)\n",
    "\n",
    "# sTs = xTx + u\n",
    "# sTt = xTy + v\n",
    "\n",
    "# sTspinv = np.linalg.pinv(sTs)\n",
    "# wi = np.dot(sTspinv, sTt)\n",
    "# print(wi)\n",
    "\n",
    "# xTxpinv = np.linalg.pinv(xTx)\n",
    "# w = np.dot(xTxpinv, xTy)\n",
    "# print(w)"
   ]
  },
  {
   "cell_type": "code",
   "execution_count": null,
   "metadata": {},
   "outputs": [],
   "source": []
  },
  {
   "cell_type": "code",
   "execution_count": null,
   "metadata": {},
   "outputs": [],
   "source": []
  }
 ],
 "metadata": {
  "kernelspec": {
   "display_name": "Python 3",
   "language": "python",
   "name": "python3"
  },
  "language_info": {
   "codemirror_mode": {
    "name": "ipython",
    "version": 3
   },
   "file_extension": ".py",
   "mimetype": "text/x-python",
   "name": "python",
   "nbconvert_exporter": "python",
   "pygments_lexer": "ipython3",
   "version": "3.7.1"
  }
 },
 "nbformat": 4,
 "nbformat_minor": 2
}
