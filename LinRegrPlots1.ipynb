{
 "cells": [
  {
   "cell_type": "code",
   "execution_count": 9,
   "metadata": {},
   "outputs": [],
   "source": [
    "import numpy as np\n",
    "import matplotlib.pyplot as plt\n",
    "import pandas as pd"
   ]
  },
  {
   "cell_type": "markdown",
   "metadata": {},
   "source": [
    "# Using an existent Dataset called '50_Startups.csv' from the system and LR using sklearn"
   ]
  },
  {
   "cell_type": "code",
   "execution_count": 115,
   "metadata": {},
   "outputs": [
    {
     "name": "stderr",
     "output_type": "stream",
     "text": [
      "C:\\Users\\jithe\\Anaconda3\\lib\\site-packages\\sklearn\\preprocessing\\_encoders.py:368: FutureWarning: The handling of integer data will change in version 0.22. Currently, the categories are determined based on the range [0, max(values)], while in the future they will be determined based on the unique values.\n",
      "If you want the future behaviour and silence this warning, you can specify \"categories='auto'\".\n",
      "In case you used a LabelEncoder before this OneHotEncoder to convert the categories to integers, then you can now use the OneHotEncoder directly.\n",
      "  warnings.warn(msg, FutureWarning)\n",
      "C:\\Users\\jithe\\Anaconda3\\lib\\site-packages\\sklearn\\preprocessing\\_encoders.py:390: DeprecationWarning: The 'categorical_features' keyword is deprecated in version 0.20 and will be removed in 0.22. You can use the ColumnTransformer instead.\n",
      "  \"use the ColumnTransformer instead.\", DeprecationWarning)\n"
     ]
    }
   ],
   "source": [
    "dataset = pd.read_csv('50_Startups.csv')\n",
    "X = dataset.iloc[:, :-1].values\n",
    "y = dataset.iloc[:, 4].values\n",
    "\n",
    "from sklearn.preprocessing import LabelEncoder, OneHotEncoder\n",
    "labelencoder_X = LabelEncoder()\n",
    "X[:, 3] = labelencoder_X.fit_transform(X[:, 3])\n",
    "onehotencoder = OneHotEncoder(categorical_features=[3])\n",
    "X = onehotencoder.fit_transform(X).toarray()\n",
    "\n",
    "# Avoid dummy variable trap\n",
    "X = X[:, 1:]\n",
    "\n",
    "from sklearn.model_selection import train_test_split\n",
    "X_train, X_test, y_train, y_test = train_test_split(X, y, test_size = 0.2, random_state = 0)\n",
    "\n",
    "from sklearn.linear_model import LinearRegression\n",
    "regressor = LinearRegression()\n",
    "regressor.fit(X_train, y_train)\n",
    "y_pred = regressor.predict(X_test)"
   ]
  },
  {
   "cell_type": "code",
   "execution_count": 116,
   "metadata": {},
   "outputs": [
    {
     "data": {
      "text/plain": [
       "array([  267.17840204, 11677.12239185, 13674.21154825,  5822.73148742,\n",
       "       12512.90778944, 11152.93230166, 13377.36790324,  1308.17374687,\n",
       "        3617.18533013,  1733.12569551])"
      ]
     },
     "execution_count": 116,
     "metadata": {},
     "output_type": "execute_result"
    }
   ],
   "source": [
    "#absolute error\n",
    "abs(y_pred-y_test)"
   ]
  },
  {
   "cell_type": "code",
   "execution_count": 117,
   "metadata": {},
   "outputs": [
    {
     "data": {
      "text/html": [
       "<table class=\"simpletable\">\n",
       "<caption>OLS Regression Results</caption>\n",
       "<tr>\n",
       "  <th>Dep. Variable:</th>            <td>y</td>        <th>  R-squared:         </th> <td>   0.947</td>\n",
       "</tr>\n",
       "<tr>\n",
       "  <th>Model:</th>                   <td>OLS</td>       <th>  Adj. R-squared:    </th> <td>   0.945</td>\n",
       "</tr>\n",
       "<tr>\n",
       "  <th>Method:</th>             <td>Least Squares</td>  <th>  F-statistic:       </th> <td>   849.8</td>\n",
       "</tr>\n",
       "<tr>\n",
       "  <th>Date:</th>             <td>Tue, 04 Jun 2019</td> <th>  Prob (F-statistic):</th> <td>3.50e-32</td>\n",
       "</tr>\n",
       "<tr>\n",
       "  <th>Time:</th>                 <td>11:10:29</td>     <th>  Log-Likelihood:    </th> <td> -527.44</td>\n",
       "</tr>\n",
       "<tr>\n",
       "  <th>No. Observations:</th>      <td>    50</td>      <th>  AIC:               </th> <td>   1059.</td>\n",
       "</tr>\n",
       "<tr>\n",
       "  <th>Df Residuals:</th>          <td>    48</td>      <th>  BIC:               </th> <td>   1063.</td>\n",
       "</tr>\n",
       "<tr>\n",
       "  <th>Df Model:</th>              <td>     1</td>      <th>                     </th>     <td> </td>   \n",
       "</tr>\n",
       "<tr>\n",
       "  <th>Covariance Type:</th>      <td>nonrobust</td>    <th>                     </th>     <td> </td>   \n",
       "</tr>\n",
       "</table>\n",
       "<table class=\"simpletable\">\n",
       "<tr>\n",
       "    <td></td>       <th>coef</th>     <th>std err</th>      <th>t</th>      <th>P>|t|</th>  <th>[0.025</th>    <th>0.975]</th>  \n",
       "</tr>\n",
       "<tr>\n",
       "  <th>const</th> <td> 4.903e+04</td> <td> 2537.897</td> <td>   19.320</td> <td> 0.000</td> <td> 4.39e+04</td> <td> 5.41e+04</td>\n",
       "</tr>\n",
       "<tr>\n",
       "  <th>x1</th>    <td>    0.8543</td> <td>    0.029</td> <td>   29.151</td> <td> 0.000</td> <td>    0.795</td> <td>    0.913</td>\n",
       "</tr>\n",
       "</table>\n",
       "<table class=\"simpletable\">\n",
       "<tr>\n",
       "  <th>Omnibus:</th>       <td>13.727</td> <th>  Durbin-Watson:     </th> <td>   1.116</td>\n",
       "</tr>\n",
       "<tr>\n",
       "  <th>Prob(Omnibus):</th> <td> 0.001</td> <th>  Jarque-Bera (JB):  </th> <td>  18.536</td>\n",
       "</tr>\n",
       "<tr>\n",
       "  <th>Skew:</th>          <td>-0.911</td> <th>  Prob(JB):          </th> <td>9.44e-05</td>\n",
       "</tr>\n",
       "<tr>\n",
       "  <th>Kurtosis:</th>      <td> 5.361</td> <th>  Cond. No.          </th> <td>1.65e+05</td>\n",
       "</tr>\n",
       "</table><br/><br/>Warnings:<br/>[1] Standard Errors assume that the covariance matrix of the errors is correctly specified.<br/>[2] The condition number is large, 1.65e+05. This might indicate that there are<br/>strong multicollinearity or other numerical problems."
      ],
      "text/plain": [
       "<class 'statsmodels.iolib.summary.Summary'>\n",
       "\"\"\"\n",
       "                            OLS Regression Results                            \n",
       "==============================================================================\n",
       "Dep. Variable:                      y   R-squared:                       0.947\n",
       "Model:                            OLS   Adj. R-squared:                  0.945\n",
       "Method:                 Least Squares   F-statistic:                     849.8\n",
       "Date:                Tue, 04 Jun 2019   Prob (F-statistic):           3.50e-32\n",
       "Time:                        11:10:29   Log-Likelihood:                -527.44\n",
       "No. Observations:                  50   AIC:                             1059.\n",
       "Df Residuals:                      48   BIC:                             1063.\n",
       "Df Model:                           1                                         \n",
       "Covariance Type:            nonrobust                                         \n",
       "==============================================================================\n",
       "                 coef    std err          t      P>|t|      [0.025      0.975]\n",
       "------------------------------------------------------------------------------\n",
       "const       4.903e+04   2537.897     19.320      0.000    4.39e+04    5.41e+04\n",
       "x1             0.8543      0.029     29.151      0.000       0.795       0.913\n",
       "==============================================================================\n",
       "Omnibus:                       13.727   Durbin-Watson:                   1.116\n",
       "Prob(Omnibus):                  0.001   Jarque-Bera (JB):               18.536\n",
       "Skew:                          -0.911   Prob(JB):                     9.44e-05\n",
       "Kurtosis:                       5.361   Cond. No.                     1.65e+05\n",
       "==============================================================================\n",
       "\n",
       "Warnings:\n",
       "[1] Standard Errors assume that the covariance matrix of the errors is correctly specified.\n",
       "[2] The condition number is large, 1.65e+05. This might indicate that there are\n",
       "strong multicollinearity or other numerical problems.\n",
       "\"\"\""
      ]
     },
     "execution_count": 117,
     "metadata": {},
     "output_type": "execute_result"
    }
   ],
   "source": [
    "import statsmodels.formula.api as sm\n",
    "X = np.append(arr = np.ones((50,1)).astype(int), values = X, axis = 1)\n",
    "X_opt = X[:, [0, 3]]\n",
    "\n",
    "# Select a significance level to stay SL = 0.05 endog dependant var, exog indep\n",
    "regressor_OLS = sm.OLS(endog = y, exog = X_opt).fit()\n",
    "regressor_OLS.summary()\n",
    "# X_opt = X[:, [0, 1, 3, 4, 5]]\n",
    "# regressor_OLS = sm.OLS(endog = y, exog = X_opt).fit()\n",
    "# regressor_OLS.summary()\n",
    "# X_opt = X[:, [0, 1, 3, 4]]\n",
    "# regressor_OLS = sm.OLS(endog = y, exog = X_opt).fit()\n",
    "# regressor_OLS.summary()\n",
    "# X_opt = X[:, [0, 3, 5]]\n",
    "# regressor_OLS = sm.OLS(endog = y, exog = X_opt).fit()\n",
    "# regressor_OLS.summary()\n",
    "# X_opt = X[:, [0, 3]]\n",
    "# regressor_OLS = sm.OLS(endog = y, exog = X_opt).fit()\n",
    "# regressor_OLS.summary()"
   ]
  },
  {
   "cell_type": "markdown",
   "metadata": {},
   "source": [
    "# Using a synthetic dataset to do LR, and plot entries of datasets vs. Mean Squared Error"
   ]
  },
  {
   "cell_type": "code",
   "execution_count": 20,
   "metadata": {},
   "outputs": [
    {
     "data": {
      "image/png": "[encoded data removed]",
      "text/plain": [
       "<Figure size 432x288 with 1 Axes>"
      ]
     },
     "metadata": {
      "needs_background": "light"
     },
     "output_type": "display_data"
    }
   ],
   "source": [
    "import numpy as np\n",
    "import matplotlib.pyplot as plt\n",
    "import pandas as pd\n",
    "from sklearn.datasets import make_regression \n",
    "from sklearn.linear_model import LinearRegression\n",
    "import statsmodels.formula.api as sm\n",
    "\n",
    "entries = 100\n",
    "features = 5\n",
    "X,y = make_regression(n_samples=entries, n_features=features)\n",
    "\n",
    "X_10 = X[:10, :]\n",
    "X_20 = X[:20, :]\n",
    "X_30 = X[:30, :]\n",
    "X_40 = X[:40, :]\n",
    "X_50 = X[:50, :]\n",
    "X_60 = X[:60, :]\n",
    "X_70 = X[:70, :]\n",
    "X_80 = X[:80, :]\n",
    "X_90 = X[:90, :]\n",
    "X_100 = X[:100, :]\n",
    "\n",
    "y_10 = y[:10]\n",
    "y_20 = y[:20]\n",
    "y_30 = y[:30]\n",
    "y_40 = y[:40]\n",
    "y_50 = y[:50]\n",
    "y_60 = y[:60]\n",
    "y_70 = y[:70]\n",
    "y_80 = y[:80]\n",
    "y_90 = y[:90]\n",
    "y_100 = y[:100]\n",
    "\n",
    "# abs_err = abs(y_pred - y_test) \n",
    "# sqr_err = (np.array(abs_err) ** 2)\n",
    "# MSE = sum(sqr_err)/y_test.shape[0]\n",
    "# print(MSE)\n",
    "# X[:4, :]\n",
    "\n",
    "Xs = [X_10, X_20, X_30, X_40, X_50, X_60, X_70, X_80, X_90, X_100]\n",
    "ys = [y_10, y_20, y_30, y_40, y_50, y_60, y_70, y_80, y_90, y_100]\n",
    "\n",
    "import array\n",
    "MSEarray = np.ones((10, 1))\n",
    "\n",
    "for i in range(10):\n",
    "    xi = Xs[i]\n",
    "    yi = ys[i]\n",
    "    xi_train, xi_test, yi_train, yi_test = train_test_split(xi, yi, test_size = 0.2)\n",
    "    regress = LinearRegression()\n",
    "    regress.fit(xi_train, yi_train)\n",
    "    yi_pred = regress.predict(xi_test)\n",
    "    abs_err = abs(yi_pred - yi_test)\n",
    "    sqr_err = (np.array(abs_err) ** 2)\n",
    "    MSE = sum(sqr_err)/yi_test.shape[0]\n",
    "    MSEarray[i] = MSE\n",
    "# plt.scatter(X, y, color=\"green\")\n",
    "plt.plot([10,20,30,40,50,60,70,80,90,100], MSEarray, color='red')\n",
    "plt.title('Dimensions of X vs MSE with test_split 0.2')\n",
    "plt.xlabel('Dimensions or entries of dataset')\n",
    "plt.ylabel('Mean Squared Error')\n",
    "plt.show()"
   ]
  },
  {
   "cell_type": "markdown",
   "metadata": {},
   "source": [
    "# Implementing LR without directly using inbuild functions(single variable)"
   ]
  },
  {
   "cell_type": "code",
   "execution_count": 21,
   "metadata": {},
   "outputs": [
    {
     "name": "stdout",
     "output_type": "stream",
     "text": [
      "Standard deviation of X:  43.54780688338116\n",
      "Standard deviation of y:  82642.8398301562\n",
      "Correlation coefficient(r):  0.985712071955555\n",
      "Sy/Sx =  43.56316970433213\n",
      "Slope of our line:  42.94074227020869\n",
      "Intercept:  2.748530868551005\n"
     ]
    },
    {
     "data": {
      "image/png": "[encoded data removed]",
      "text/plain": [
       "<Figure size 432x288 with 1 Axes>"
      ]
     },
     "metadata": {
      "needs_background": "light"
     },
     "output_type": "display_data"
    }
   ],
   "source": [
    "import numpy as np\n",
    "import matplotlib.pyplot as plt\n",
    "import pandas as pd\n",
    "from sklearn.datasets import make_regression\n",
    "\n",
    "entries = 30\n",
    "features = 1\n",
    "\n",
    "X, y = make_regression(n_samples=entries, n_features=features, noise=10)\n",
    "# print(X)\n",
    "n = np.size(X)\n",
    "mean_X, mean_y = np.mean(X), np.mean(y)\n",
    "SD_X = sum((X-mean_X)**2)[0]\n",
    "SD_y = sum((y-mean_y)**2)\n",
    "r = (sum(np.multiply(X-mean_X,y.reshape(X.shape[0], 1) - mean_y)))[0]/((SD_X*SD_y)**0.5)   # corr coeff\n",
    "sm = (SD_y/SD_X)**0.5\n",
    "m = r*sm                                     #sm = Sy/Sx\n",
    "c = mean_y - m*mean_X\n",
    "y_pred1 = m*X + c\n",
    "\n",
    "print(\"Standard deviation of X: \", SD_X)\n",
    "print(\"Standard deviation of y: \", SD_y)\n",
    "print(\"Correlation coefficient(r): \", r)\n",
    "print(\"Sy/Sx = \", sm)\n",
    "print(\"Slope of our line: \", m)\n",
    "print(\"Intercept: \", c)\n",
    "\n",
    "plt.scatter(X, y, color=\"blue\", marker='.')\n",
    "plt.plot(X, y_pred1, color=\"red\")\n",
    "plt.xlabel(\"feature values\")\n",
    "plt.ylabel(\"predicted values\")\n",
    "plt.title(\"Linear regression using Sum of Squared errors, deviation and SD\")\n",
    "plt.show()"
   ]
  },
  {
   "cell_type": "markdown",
   "metadata": {},
   "source": [
    "# Implementing multi-variate LR without directly using inbuild functions and relationship between number of features vs. MSE"
   ]
  },
  {
   "cell_type": "code",
   "execution_count": 34,
   "metadata": {
    "scrolled": true
   },
   "outputs": [
    {
     "data": {
      "image/png": "[encoded data removed]",
      "text/plain": [
       "<Figure size 432x288 with 1 Axes>"
      ]
     },
     "metadata": {
      "needs_background": "light"
     },
     "output_type": "display_data"
    }
   ],
   "source": [
    "import numpy as np\n",
    "import matplotlib.pyplot as plt\n",
    "import pandas as pd\n",
    "from sklearn.datasets import make_regression\n",
    "\n",
    "entries = 1000\n",
    "max_features_of_graph = 500\n",
    "\n",
    "TMSE = np.ones((max_features_of_graph,1))\n",
    "X, y = make_regression(n_samples=entries, n_features=max_features_of_graph, noise = 0)\n",
    "\n",
    "for no_features in range(max_features_of_graph):\n",
    "    \n",
    "    features = no_features+1\n",
    "    \n",
    "    Xi = X[:, :no_features+1]\n",
    "\n",
    "    X_mean = np.sum(Xi, axis=0)/entries      # contains all xmean \n",
    "    y_mean = np.mean(y)\n",
    "\n",
    "#     n = entries\n",
    "\n",
    "    SD_X = sum((Xi-X_mean)**2)  # SD of each feature\n",
    "#     print(\"SD of each feature      \",SD_X) \n",
    "    SD_y = sum((y-y_mean)**2)  # SD of dependant variable\n",
    "#     print(\"SD of dependant variable\", SD_y)\n",
    "\n",
    "    num = sum(np.multiply(Xi-X_mean, y.reshape(entries, 1) - y_mean))\n",
    "\n",
    "    slopes = np.ones((features))\n",
    "    intercept = 0\n",
    "    sigma_mx = 0\n",
    "\n",
    "    for i in range(features):\n",
    "\n",
    "        denom = (SD_X[i]*SD_y)**0.5\n",
    "        r = num[i]/denom\n",
    "        sm = (SD_y/SD_X[i])**0.5\n",
    "        m = r*sm\n",
    "        slopes[i] = m\n",
    "        sigma_mx += m*X_mean[i]\n",
    "    \n",
    "  \n",
    "    intercept = y_mean - sigma_mx\n",
    "    slopes = slopes.reshape(features,1)\n",
    "    z = np.dot(Xi,slopes)\n",
    "    y_pred = z+intercept\n",
    "    abserr = (y_pred-y.reshape(entries,1))\n",
    "    MSE = sum(abserr[0]**2)/entries\n",
    "    TMSE[no_features] = MSE\n",
    "\n",
    "plt.plot(list(range(1,max_features_of_graph+1)), TMSE, color=\"blue\")\n",
    "plt.xlabel(\"Number of features\")\n",
    "plt.ylabel(\"Total Mean squared error\")\n",
    "plt.title(\"MSE vs No.of.features in linear regression\")\n",
    "plt.show()"
   ]
  },
  {
   "cell_type": "code",
   "execution_count": 35,
   "metadata": {},
   "outputs": [
    {
     "data": {
      "image/png": "[encoded data removed]",
      "text/plain": [
       "<Figure size 432x288 with 1 Axes>"
      ]
     },
     "metadata": {
      "needs_background": "light"
     },
     "output_type": "display_data"
    }
   ],
   "source": [
    "import numpy as np\n",
    "import matplotlib.pyplot as plt\n",
    "import pandas as pd\n",
    "from sklearn.datasets import make_regression\n",
    "\n",
    "entries = 10\n",
    "max_features_of_graph = 2\n",
    "\n",
    "TMSE = np.ones((max_features_of_graph,1))\n",
    "X, y = make_regression(n_samples=entries, n_features=max_features_of_graph, noise = 0)\n",
    "\n",
    "for no_features in range(max_features_of_graph):\n",
    "    \n",
    "    features = no_features+1\n",
    "    \n",
    "    Xi = X[:, :no_features+1]\n",
    "\n",
    "    X_mean = np.sum(Xi, axis=0)/entries      # contains all xmean \n",
    "    y_mean = np.mean(y)\n",
    "\n",
    "#     n = entries\n",
    "\n",
    "    SD_X = sum((Xi-X_mean)**2)  # SD of each feature\n",
    "#     print(\"SD of each feature      \",SD_X) \n",
    "    SD_y = sum((y-y_mean)**2)  # SD of dependant variable\n",
    "#     print(\"SD of dependant variable\", SD_y)\n",
    "\n",
    "    num = sum(np.multiply(Xi-X_mean, y.reshape(entries, 1) - y_mean))\n",
    "\n",
    "    slopes = np.ones((features))\n",
    "    intercept = 0\n",
    "    sigma_mx = 0\n",
    "\n",
    "    for i in range(features):\n",
    "\n",
    "        denom = (SD_X[i]*SD_y)**0.5\n",
    "        r = num[i]/denom\n",
    "        sm = (SD_y/SD_X[i])**0.5\n",
    "        m = r*sm\n",
    "        slopes[i] = m\n",
    "        sigma_mx += m*X_mean[i]\n",
    "    \n",
    "  \n",
    "    intercept = y_mean - sigma_mx\n",
    "    slopes = slopes.reshape(features,1)\n",
    "    z = np.dot(Xi,slopes)\n",
    "    y_pred = z+intercept\n",
    "    abserr = (y_pred-y.reshape(entries,1))\n",
    "    MSE = sum(abserr[0]**2)/entries\n",
    "    TMSE[no_features] = MSE\n",
    "\n",
    "\n",
    "\n",
    "# plt.plot(list(range(1,max_features_of_graph+1)), TMSE, color=\"blue\")\n",
    "# plt.xlabel(\"Number of features\")\n",
    "# plt.ylabel(\"Total Mean squared error\")\n",
    "# plt.title(\"MSE vs No.of.features in linear regression\")\n",
    "# plt.show()"
   ]
  },
  {
   "cell_type": "code",
   "execution_count": null,
   "metadata": {},
   "outputs": [],
   "source": []
  }
 ],
 "metadata": {
  "kernelspec": {
   "display_name": "Python 3",
   "language": "python",
   "name": "python3"
  },
  "language_info": {
   "codemirror_mode": {
    "name": "ipython",
    "version": 3
   },
   "file_extension": ".py",
   "mimetype": "text/x-python",
   "name": "python",
   "nbconvert_exporter": "python",
   "pygments_lexer": "ipython3",
   "version": "3.7.1"
  }
 },
 "nbformat": 4,
 "nbformat_minor": 2
}
