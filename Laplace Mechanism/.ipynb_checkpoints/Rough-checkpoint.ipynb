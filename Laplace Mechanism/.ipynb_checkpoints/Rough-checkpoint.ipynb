{
 "cells": [
  {
   "cell_type": "code",
   "execution_count": 8,
   "metadata": {
    "scrolled": false
   },
   "outputs": [
    {
     "name": "stdout",
     "output_type": "stream",
     "text": [
      "[[2.19292107 0.16870988]\n",
      " [0.16870988 3.29703668]]\n"
     ]
    }
   ],
   "source": [
    "import numpy as np\n",
    "from sklearn.datasets import make_regression\n",
    "\n",
    "def l1norm_X_and_y_preserve_linearity(X, y, val):\n",
    "    \n",
    "    n = X.shape[0]\n",
    "    d = X.shape[1]\n",
    "    for i in range(n):\n",
    "        row_abs_sum = sum(abs(X[i, :]))\n",
    "        X[i] = X[i]/row_abs_sum\n",
    "        if val == 1:\n",
    "            y[i] = y[i]/row_abs_sum\n",
    "        else:\n",
    "            ymax = max(abs(y))\n",
    "            y = y/ymax\n",
    "\n",
    "    return X, y\n",
    "\n",
    "n = 10\n",
    "d = 2\n",
    "X, y = make_regression(n_samples=n, n_features=d, noise=0)\n",
    "X, y = l1norm_X_and_y_preserve_linearity(X, y, 0)\n",
    "\n",
    "# print(X)\n",
    "xT = X.transpose()\n",
    "# print(xT)\n",
    "xTx = np.matmul(xT, X)\n",
    "print(xTx)"
   ]
  },
  {
   "cell_type": "markdown",
   "metadata": {},
   "source": []
  },
  {
   "cell_type": "code",
   "execution_count": 1,
   "metadata": {},
   "outputs": [],
   "source": []
  },
  {
   "cell_type": "code",
   "execution_count": null,
   "metadata": {},
   "outputs": [],
   "source": []
  }
 ],
 "metadata": {
  "kernelspec": {
   "display_name": "Python 3",
   "language": "python",
   "name": "python3"
  },
  "language_info": {
   "codemirror_mode": {
    "name": "ipython",
    "version": 3
   },
   "file_extension": ".py",
   "mimetype": "text/x-python",
   "name": "python",
   "nbconvert_exporter": "python",
   "pygments_lexer": "ipython3",
   "version": "3.7.1"
  }
 },
 "nbformat": 4,
 "nbformat_minor": 2
}
